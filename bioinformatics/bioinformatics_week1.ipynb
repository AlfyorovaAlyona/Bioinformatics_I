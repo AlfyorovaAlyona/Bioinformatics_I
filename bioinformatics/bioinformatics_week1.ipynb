{
 "cells": [
  {
   "cell_type": "code",
   "execution_count": 80,
   "id": "b6db54d3",
   "metadata": {},
   "outputs": [],
   "source": [
    "def patternCount(Text, Pattern):\n",
    "    count = 0\n",
    "    indexes = []\n",
    "    for i in range(len(Text)-len(Pattern)+1):\n",
    "        if (Text[i:i+len(Pattern)] == Pattern):\n",
    "            indexes.append(i)\n",
    "            count += 1\n",
    "    print(*indexes, sep=' ')\n",
    "    return count\n"
   ]
  },
  {
   "cell_type": "code",
   "execution_count": 88,
   "id": "4582fd4e",
   "metadata": {},
   "outputs": [
    {
     "name": "stdout",
     "output_type": "stream",
     "text": [
      "0 1 12\n"
     ]
    },
    {
     "data": {
      "text/plain": [
       "3"
      ]
     },
     "execution_count": 88,
     "metadata": {},
     "output_type": "execute_result"
    }
   ],
   "source": [
    "Text = 'AAACATAGGATCAAC'\n",
    "Pattern = 'AA'\n",
    "patternCount(Text, Pattern)"
   ]
  },
  {
   "cell_type": "code",
   "execution_count": 41,
   "id": "d7a6ab98",
   "metadata": {},
   "outputs": [],
   "source": [
    "def BetterFrequentWords(Text, k):\n",
    "    frequentPatterns = []\n",
    "    freqMap = FrequencyTable(Text, k)\n",
    "    max_value = maxMap(freqMap)\n",
    "    for pattern in freqMap.keys():\n",
    "        if freqMap[pattern] == max_value:\n",
    "            frequentPatterns.append(pattern)\n",
    "    return frequentPatterns"
   ]
  },
  {
   "cell_type": "code",
   "execution_count": 42,
   "id": "103fca6d",
   "metadata": {},
   "outputs": [],
   "source": [
    "def FrequencyTable(Text, k):\n",
    "    dictMap = {}\n",
    "    n = len(Text)\n",
    "    for i in range(n-k+1):\n",
    "        pattern = Text[i:i+k]\n",
    "        if pattern not in dictMap.keys():\n",
    "            dictMap[pattern] = 1\n",
    "        else:\n",
    "            dictMap[pattern] +=1\n",
    "    return dictMap\n",
    "    "
   ]
  },
  {
   "cell_type": "code",
   "execution_count": 45,
   "id": "6c852af9",
   "metadata": {},
   "outputs": [],
   "source": [
    "def maxMap(dictMap):\n",
    "    values_abs = [abs(i) for i in dictMap.values()]\n",
    "    return max(values_abs)"
   ]
  },
  {
   "cell_type": "code",
   "execution_count": 86,
   "id": "88ccb865",
   "metadata": {},
   "outputs": [
    {
     "data": {
      "text/plain": [
       "['CCT']"
      ]
     },
     "execution_count": 86,
     "metadata": {},
     "output_type": "execute_result"
    }
   ],
   "source": [
    "Text = 'CGCCTAAATAGCCTCGCGGAGCCTTATGTCATACTCGTCCT'\n",
    "k = 3\n",
    "BetterFrequentWords(Text, k)"
   ]
  },
  {
   "cell_type": "code",
   "execution_count": 71,
   "id": "69b00888",
   "metadata": {},
   "outputs": [],
   "source": [
    "def findReverseComplement(Text):\n",
    "    reverse_complement = ''\n",
    "    for nt in range(0,len(Text)):\n",
    "        if Text[nt] == 'A':\n",
    "            reverse_complement += 'T'\n",
    "        elif Text[nt] == 'T':\n",
    "            reverse_complement += 'A'\n",
    "        elif Text[nt] == 'C':\n",
    "            reverse_complement += 'G'\n",
    "        elif Text[nt] == 'G':\n",
    "            reverse_complement += 'C'\n",
    "    return reverse_complement[::-1]"
   ]
  },
  {
   "cell_type": "code",
   "execution_count": 87,
   "id": "d67bc096",
   "metadata": {},
   "outputs": [
    {
     "data": {
      "text/plain": [
       "'GATCTGG'"
      ]
     },
     "execution_count": 87,
     "metadata": {},
     "output_type": "execute_result"
    }
   ],
   "source": [
    "Text = 'CCAGATC'\n",
    "findReverseComplement(Text)"
   ]
  },
  {
   "cell_type": "code",
   "execution_count": null,
   "id": "7d7e9902",
   "metadata": {},
   "outputs": [],
   "source": []
  }
 ],
 "metadata": {
  "kernelspec": {
   "display_name": "Python 3 (ipykernel)",
   "language": "python",
   "name": "python3"
  },
  "language_info": {
   "codemirror_mode": {
    "name": "ipython",
    "version": 3
   },
   "file_extension": ".py",
   "mimetype": "text/x-python",
   "name": "python",
   "nbconvert_exporter": "python",
   "pygments_lexer": "ipython3",
   "version": "3.9.8"
  }
 },
 "nbformat": 4,
 "nbformat_minor": 5
}
