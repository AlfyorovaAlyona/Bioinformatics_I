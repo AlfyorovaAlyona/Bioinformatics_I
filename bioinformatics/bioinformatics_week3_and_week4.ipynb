{
 "cells": [
  {
   "cell_type": "markdown",
   "id": "683caacc",
   "metadata": {},
   "source": [
    "# Week3: Motif Finding"
   ]
  },
  {
   "cell_type": "code",
   "execution_count": 1,
   "id": "f38f2bcf",
   "metadata": {},
   "outputs": [],
   "source": [
    "def parse_file(file_name):\n",
    "    f = open(file_name, 'r')\n",
    "    Text = f.read().splitlines()\n",
    "    f.close()\n",
    "    return Text"
   ]
  },
  {
   "cell_type": "code",
   "execution_count": 2,
   "id": "737a0977",
   "metadata": {},
   "outputs": [],
   "source": [
    "def first_symbol(pattern):\n",
    "    return pattern[0:1]\n",
    "\n",
    "def suffix(pattern):\n",
    "    return pattern[1:]\n",
    "\n",
    "def hamming_distance(text1, text2):\n",
    "    hamm_dist = 0\n",
    "    for i in range(0,len(text1)):\n",
    "        if (text1[i] != text2[i]):\n",
    "            hamm_dist += 1\n",
    "    return hamm_dist\n"
   ]
  },
  {
   "cell_type": "code",
   "execution_count": 3,
   "id": "deb03449",
   "metadata": {},
   "outputs": [],
   "source": [
    "def find_neighbors(pattern, d):\n",
    "    nbs = {'A', 'C', 'T', 'G'}\n",
    "    if d == 0:\n",
    "        return pattern\n",
    "    if len(pattern) == 1:\n",
    "        return nbs\n",
    "    neighborhood = set()\n",
    "    suffix_pattern = suffix(pattern)\n",
    "    suffix_neighbors = find_neighbors(suffix_pattern, d)\n",
    "    for text in suffix_neighbors:\n",
    "        if hamming_distance(suffix(pattern), text) < d:\n",
    "            for nb in nbs:\n",
    "                neighborhood.add(nb + text)\n",
    "        else:\n",
    "            neighborhood.add(first_symbol(pattern) + text)\n",
    "    return neighborhood"
   ]
  },
  {
   "cell_type": "code",
   "execution_count": 4,
   "id": "4d164cd1",
   "metadata": {},
   "outputs": [
    {
     "name": "stdout",
     "output_type": "stream",
     "text": [
      "CTTCT AGCTA CTTAG CTGTC ACGTT TTCTA ACCCC ATAGA GCCTG TACGA TTTGT TCGCC ACTTG ACACC TAAGT TACGC TGCAC GGATT AAGTT GGAAG TCGTC GATTA ACCGT CCTTG TCCCA CTTAC CACTT CTGCG CAGCC TGGAA AGCTT AAGTG CTCGT CCAGC TCGCT CATAG GTAAA GAAGG TGATC GGTAA ATCAC AGGTC AACGT TAGGT TACTT TCAGA TAACT CTGTG ACATG GTGCA ATGGA GGACT TGCAA GACCT TGTCT CATTT AGCCG ATCCC AGAGC CTCTG TCAGT TGCTG CCCAT GCATT AGCCC TGGTT GTCTG AATTG TATCG TTGCT GATTT GCGTA TAGAA TGACT TCCTG TGCCT TGCGT ACCAC GGTTT TCCTT CACTG GTCTC GCAGT GTACA CCGTT TTGAA GGTTA GGATG AACGC CACCC CTCAG AGATT ACTGC TAGCT GAATA TAGAC AGCCT TCCAG ATCGT GCTTC TGCAT TCCTC CGGTT TAGGG CTTTC GTGTC CGGAA TGAAC CTACC ATAGG CACAT CTAGT ATCTT TACTC ACCCA CTTTT ACTTT CCCTA GAGCC TCACC TGCCC CGTTT CACTC TCGTG AAACC AGTGA GACAT GCGTT GATCG CTGAT ATGTC GTTGG TAGGC GGTAG TTAGC ACATT GGCTT ATTAG CTTCA ATCGC ATGTA CCTAT AGTAT ATGGT GCTCT GCCTT CTACG GTTCG TCGCG TTGAG TGCGA TAATT ACTTC GGTTC CCATC ATCGA GGTGT GATGT TTCTG ATGCT ACGTC AAGGT CTATC TTCAC TCCAC TGTAC GCATG TCGAA ATCGG ATACG GTCGA CTATT ATACT GTCTA GCAAT GCCTA TGAAG AGAGT GTTAG CCCGT ATAGC TTAGA GATGA CGATG TCTTG CGCAT GTACG GGAAT CAAAT CTGAA GATAC CCCCT TCTAC CGTTA AATTC TAGAG AAGTC ATCCA CGATC AACGG TAGTC TTTCA ATGTT ATGGC CCTCC CGTGC ACTCT ACAAC CTCAC AATCG CGCTA GTCTT CGTAG TCTCT GCGCT AGAAC CATTG CAAGT TGGCA TAGTT CATTA TGTAT AATGG CCCAC ACATC CCTAC ACTAT TGAGG ACTCG TACGG TCATT CTCAT GAATT TTGTC AGTTC AAGCT CTCTC TTCCA ATGAC TTTAG CGTCG GAGTA TCATG TACCA AGATG GTTTC TTGGT CCGAC GGTAT GCCAC TCCCC CCACC TCAGG CTTGG CTGGA GGATC CTAAT ACCTG CTTGC TCGTA ATTCG CTTGT AGTAC GCTGA CCCCC TGTGA GCCTC ATGTG GCTAG TCAAC ATAGT TTACG TACGT TGATA TCCAT CTACA TACAT CCTTA AGGAT GTGAC ACCAT TTGAT AGGTT TAGCA CCCGC CACTA GATCT ACTAC TCCCT CTCTT GTATG CTAAG TATAT ATTGT GTTTT GCTTA TCACG GAACT CTCCA GATAA ATATT AGTCC CGGTG AAACT GCACT GCAAG CGTAT GAGTT TCTTT GCGAT ACCTT CAGTT TGGAC CCATG GCTAC CAGTG TGCCA ATGCC TGTTT TCCGC CCATA TTCCT AACTC CTCCT ACTTA CTCGA CTCTA TTATA AACCT GCTCA GACTT CGCAA CAATC AGACC TATGT CCAAC TGTTC TGCTC AATGT TTGCG GGCAT TCGAT GTATT TTCAT TCTTC ATAAG CTGCA AACTT CCTCA CAACC GCTTT ATTCC TTGAC CCTGG GATAT CGAAT TCTTA CTCCG CCAAT GCTTG TCGAC ACACT TTCTC GTCCT GTAAC TCCAA CCGAG TACCT CCGCC AGTTA CGTGT GACCC CCACT GTTTG ACTCC GCCCT AGAAT CGTCT TATAG CGGAC CCGCT GAGAT AGTAG TATTG TGACC CGTGG TAGCC GGTTG GGAGT ATTCT CAGGT CAGAT TCTGT CGCTT TTACT CCTCT GTCAT CTGCT ATACC ATTTC CCCCA ACGAC TGACG AGCCA AGTCT CATGA CCCTG TGATG AGTGC TGGGT CTGAG CATTC TTAGG TGCAG ACAGT CCAAG ACGAT CGCTC GCCCA CTTCG CGCAC GGTCC TATCT GAACG TGGTC CACGT AACTA TGTCC CCCTC CACAC GTCCA CTGAC TTTGA TTCGT CACCT GTAGA TTCTT CTACT TAGTA CGTCA CGATT GATGG TTGGC TCGGA ACGGT TCACT GTCCG GTTAT GTTCT GAGGT GGTCA AATAT TTAGT TTCGC CATGG GTAGT TAAAT GCTCG TGAAT TAGCG AATCT GTCAA ATATG AGTTT CTATA TCGCA TTTCT ACTCA GTTGC AATAG GATCC CCCAG TTGTT TCTAT CGGTA CTAGA GATAG CTTAA GCATC GGTGA ACATA GAATC TAGGA CATCT GATTG ATGCA GTTGA CCTTC GAATG GCCGA TTGCA CGCTG CTTAT GATCA CCTCG CGCCT CTGGT AACCC TGTCG ACGTA ACCTC TGTTA AGACT TCCGT CGCGT CAACG AGTCA CGTCC TTATC TATTT GTATA TACAC GCGAC GTGGA TGCTT TTGCC GTCGT TCTGA TTTAC TCACA CGATA GGATA CCGTG TCAAT CTTTA GTAGC GTGCT AGCAT AGGCT CTCGC TGTAA GTCAC GTTTA TCTGC TGGAT CTAGC AGCTC CGTTC GCATA AATGC AGATC GCTAA AGTTG ATTGA AAGAT CCTGT GTTCA CTGTT ACCCT AGCAA CATGT CTCGG CCATT CCCTT CGTGA TCGGT ATTGC GCTGC GCTGT TGGCC GCTCC TGTTG CAATA TGGCT CATGC TAGAT CCGAT CCCAA ACGCT CCGGC GCCAT CTTGA TCGTT GTACT GACGT GGCCT CCTTT GCAAC GATGC CGTTG CAAGG TGTCA AACAT GTTGT CTTTG AGGTA\n"
     ]
    }
   ],
   "source": [
    "def motif_enumeration(dna, k ,d):\n",
    "    kmer_list = [set() for _ in dna] # list of sets\n",
    "    for pos, pattern in enumerate(dna):\n",
    "        for k_pos in range(len(pattern) - k + 1):\n",
    "            k_mer = pattern[k_pos:k_pos+k]\n",
    "            neighbors = find_neighbors(k_mer, d)\n",
    "            kmer_list[pos].update(neighbors)\n",
    "    patterns = kmer_list[0]\n",
    "    for kset in kmer_list:\n",
    "        patterns = patterns.intersection(kset)\n",
    "    return patterns\n",
    "\n",
    "text = parse_file('dataset_156_8.txt')[1]\n",
    "dna = text.split(' ')\n",
    "print(*motif_enumeration(dna, 5, 2))"
   ]
  },
  {
   "cell_type": "markdown",
   "id": "02d23773",
   "metadata": {},
   "source": [
    "# Median String Problem"
   ]
  },
  {
   "cell_type": "code",
   "execution_count": 5,
   "id": "ec46ab5a",
   "metadata": {},
   "outputs": [],
   "source": [
    "def distance_between_pattern_and_strings(pattern, dna):\n",
    "    k = len(pattern)\n",
    "    distance = 0\n",
    "    for string in dna:\n",
    "        hamm_dist = float('inf')\n",
    "        for k_pos in range(len(string) - k + 1):\n",
    "            k_mer = string[k_pos:k_pos+k]\n",
    "            if hamm_dist > hamming_distance(pattern, k_mer):\n",
    "                hamm_dist = hamming_distance(pattern, k_mer)\n",
    "        distance = distance + hamm_dist\n",
    "    return distance"
   ]
  },
  {
   "cell_type": "code",
   "execution_count": 6,
   "id": "50b6f287",
   "metadata": {},
   "outputs": [
    {
     "data": {
      "text/plain": [
       "89"
      ]
     },
     "execution_count": 6,
     "metadata": {},
     "output_type": "execute_result"
    }
   ],
   "source": [
    "text = parse_file('dataset_5164_1.txt')\n",
    "pattern = text[0]\n",
    "dna = text[1].split(' ')\n",
    "distance_between_pattern_and_strings(pattern, dna)"
   ]
  },
  {
   "cell_type": "code",
   "execution_count": 7,
   "id": "8efe3fc7",
   "metadata": {},
   "outputs": [
    {
     "data": {
      "text/plain": [
       "{'AA',\n",
       " 'AC',\n",
       " 'AG',\n",
       " 'AT',\n",
       " 'CA',\n",
       " 'CC',\n",
       " 'CG',\n",
       " 'CT',\n",
       " 'GA',\n",
       " 'GC',\n",
       " 'GG',\n",
       " 'GT',\n",
       " 'TA',\n",
       " 'TC',\n",
       " 'TG',\n",
       " 'TT'}"
      ]
     },
     "execution_count": 7,
     "metadata": {},
     "output_type": "execute_result"
    }
   ],
   "source": [
    "def all_strings(d):\n",
    "    nbs = {'A', 'C', 'T', 'G'}\n",
    "    if d == 1:\n",
    "        return nbs\n",
    "    strings = set()\n",
    "    suffix_strings = all_strings(d-1)\n",
    "    for string in suffix_strings:\n",
    "        for nb in nbs:\n",
    "            strings.add(nb + string)\n",
    "    return strings\n",
    "all_strings(2)"
   ]
  },
  {
   "cell_type": "code",
   "execution_count": 8,
   "id": "2c7f688b",
   "metadata": {},
   "outputs": [],
   "source": [
    "def median_string(dna, k):\n",
    "    distance = k*len(dna)\n",
    "    median = []\n",
    "    patterns = all_strings(k)\n",
    "    for pattern in patterns:\n",
    "        if distance > distance_between_pattern_and_strings(pattern, dna):\n",
    "            distance = distance_between_pattern_and_strings(pattern, dna)\n",
    "            median.append(pattern)\n",
    "    return median"
   ]
  },
  {
   "cell_type": "code",
   "execution_count": 207,
   "id": "5dd1829f",
   "metadata": {},
   "outputs": [
    {
     "data": {
      "text/plain": [
       "['GGACTCA', 'AATCCTA']"
      ]
     },
     "execution_count": 207,
     "metadata": {},
     "output_type": "execute_result"
    }
   ],
   "source": [
    "text = 'CTCGATGAGTAGGAAAGTAGTTTCACTGGGCGAACCACCCCGGCGCTAATCCTAGTGCCC GCAATCCTACCCGAGGCCACATATCAGTAGGAACTAGAACCACCACGGGTGGCTAGTTTC GGTGTTGAACCACGGGGTTAGTTTCATCTATTGTAGGAATCGGCTTCAAATCCTACACAG'\n",
    "dna = text.split(' ')\n",
    "median_string(dna, 7)"
   ]
  },
  {
   "cell_type": "markdown",
   "id": "ad2c3763",
   "metadata": {},
   "source": [
    "# Profile-most Probable k-mer Problem"
   ]
  },
  {
   "cell_type": "code",
   "execution_count": 112,
   "id": "5a57a94c",
   "metadata": {},
   "outputs": [],
   "source": [
    "def find_profile_most_probable_kmer(Dna, k, profile):\n",
    "    maxProbability = -1\n",
    "    # Compute the probability of the each k-mer, store it if it's currently a maximum.\n",
    "    for i in range(len(Dna)-k+1):\n",
    "        # Get the current probability.\n",
    "        currentProbability = 1\n",
    "        currentProbability = compute_probability(Dna[i:i+k], profile)\n",
    "        # Check for a maximum.\n",
    "        if currentProbability > maxProbability:\n",
    "            maxProbability = currentProbability\n",
    "            mostProbable = Dna[i:i+k]\n",
    "\n",
    "    return mostProbable"
   ]
  },
  {
   "cell_type": "code",
   "execution_count": 119,
   "id": "5ef269b5",
   "metadata": {},
   "outputs": [],
   "source": [
    "def compute_probability(k_mer, profile_matrix):\n",
    "    nb_dict = {'A': 0, 'C': 1, 'G': 2, 'T': 3}\n",
    "    prob = 1.0\n",
    "    nb_index = 0\n",
    "    for i, nt in enumerate(k_mer):\n",
    "        prob *= profile_matrix[i][nb_dict[nt]]\n",
    "    return prob"
   ]
  },
  {
   "cell_type": "markdown",
   "id": "f53c10fe",
   "metadata": {},
   "source": [
    "# Greedy Motif Search with Pseudocounts\n",
    "\n",
    "The basic idea of the greedy motif search algorithm is to find the set of motifs across a number of DNA sequences that match each other  most closely."
   ]
  },
  {
   "cell_type": "code",
   "execution_count": 120,
   "id": "e10193d0",
   "metadata": {},
   "outputs": [],
   "source": [
    "def greedy_motif_search(dna, k, t):\n",
    "    best_motifs = [string[0:k] for string in dna]\n",
    "    first_dna_string = dna[0]\n",
    "    motifs = [0]*t\n",
    "    profile = [[0.0]*4 for i in range(k)]\n",
    "    for k_pos in range(len(dna[0]) - k + 1):\n",
    "        motifs = [dna[0][k_pos:k_pos+k]]\n",
    "        for i in range(1,t):\n",
    "            profile = update_profile_and_add_pseudocouns(profile, motifs)\n",
    "            most_probable_kmer = find_profile_most_probable_kmer(dna[i], k, profile)\n",
    "            motifs.append(most_probable_kmer)\n",
    "        if score(motifs, k) < score(best_motifs, k):\n",
    "            best_motifs = motifs[:]            \n",
    "    return best_motifs"
   ]
  },
  {
   "cell_type": "code",
   "execution_count": 121,
   "id": "2f2a026b",
   "metadata": {},
   "outputs": [],
   "source": [
    "def score(motifs, k):\n",
    "    score = 0\n",
    "    consensus = find_consensus_motif(motifs, k)\n",
    "    for motif in motifs:\n",
    "        score += hamming_distance(motif, consensus)\n",
    "    return score    "
   ]
  },
  {
   "cell_type": "code",
   "execution_count": 122,
   "id": "98f04fd7",
   "metadata": {},
   "outputs": [],
   "source": [
    "def find_consensus_motif(motifs, k):\n",
    "    consensus = ''\n",
    "    colums = [0]*k\n",
    "    for i in range(k):\n",
    "        score_col = 0\n",
    "        nb_dict = {'A': 0, 'C': 0, 'G': 0, 'T': 0}\n",
    "        colums[i] = [motif[i] for motif in motifs]\n",
    "        for nb in colums[i]:\n",
    "            nb_dict[nb] +=1\n",
    "        max_count = max(nb_dict.values())\n",
    "        max_nb = [nb for nb in nb_dict.keys() if nb_dict[nb] == max_count]\n",
    "        consensus += max_nb[0]\n",
    "    return consensus"
   ]
  },
  {
   "cell_type": "code",
   "execution_count": 194,
   "id": "74baaa01",
   "metadata": {},
   "outputs": [],
   "source": [
    "def update_profile_and_add_pseudocouns(profile, motifs):\n",
    "    pseudocount = 1.0\n",
    "    columns = [''.join(seq) for seq in zip(*motifs)]\n",
    "    return [[float(col.count(nuc)+pseudocount) / float(len(col)) for nuc in 'ACGT'] for col in columns]"
   ]
  },
  {
   "cell_type": "code",
   "execution_count": 195,
   "id": "79489bdc",
   "metadata": {},
   "outputs": [
    {
     "name": "stdout",
     "output_type": "stream",
     "text": [
      "TTC ATC TTC ATC TTC\n"
     ]
    }
   ],
   "source": [
    "text = 'GGCGTTCAGGCA AAGAATCAGTCA CAAGGAGTTCGC CACGTCAATCAC CAATAATATTCG'\n",
    "dna = text.split(' ')\n",
    "#text = parse_file('dataset_159_5.txt')\n",
    "#dna = [x for x in text[1].split(' ')]\n",
    "print(*greedy_motif_search(dna, 3, 5))"
   ]
  },
  {
   "cell_type": "code",
   "execution_count": 196,
   "id": "6842678f",
   "metadata": {},
   "outputs": [
    {
     "data": {
      "text/plain": [
       "7"
      ]
     },
     "execution_count": 196,
     "metadata": {},
     "output_type": "execute_result"
    }
   ],
   "source": [
    "motifs = ['GGC', 'AAG', 'AAG', 'CAC', 'CAA']\n",
    "score(motifs, 3)"
   ]
  },
  {
   "cell_type": "markdown",
   "id": "386c07e6",
   "metadata": {},
   "source": [
    "# Week 4: Randomized Motif Search\n",
    "\n",
    "Random search resulted in a biased profile, because the genome is not random"
   ]
  },
  {
   "cell_type": "code",
   "execution_count": 197,
   "id": "efcb8526",
   "metadata": {},
   "outputs": [],
   "source": [
    "import random\n",
    "def get_random_motifs_from_dna(dna, k):\n",
    "    motifs = []\n",
    "    for genome in dna:\n",
    "        idx = random.randrange(0, len(genome) - k + 1)\n",
    "        motifs.append(genome[idx:idx+k])\n",
    "    return motifs"
   ]
  },
  {
   "cell_type": "code",
   "execution_count": 219,
   "id": "7fb07f29",
   "metadata": {},
   "outputs": [],
   "source": [
    "def randomized_motif_search(dna, k, t):\n",
    "    motifs = get_random_motifs_from_dna(dna, k)\n",
    "    best_motifs = motifs[:]\n",
    "    profile = [[0.0]*4 for i in range(k)]\n",
    "    while True:\n",
    "        profile = update_profile_and_add_pseudocouns(profile, motifs)\n",
    "        most_probable_motifs = []\n",
    "        for i in range(0,t):\n",
    "            most_probable_kmer = find_profile_most_probable_kmer(dna[i], k, profile)\n",
    "            most_probable_motifs.append(most_probable_kmer)\n",
    "            motifs = most_probable_motifs[:]\n",
    "        if score(motifs, k) < score(best_motifs, k):\n",
    "            best_motifs = motifs[:]  \n",
    "        else:\n",
    "            return best_motifs"
   ]
  },
  {
   "cell_type": "code",
   "execution_count": 220,
   "id": "39c181be",
   "metadata": {},
   "outputs": [
    {
     "name": "stdout",
     "output_type": "stream",
     "text": [
      "TCACCCTACAGTCTC TACCCATACAGCCTC TACTGCGTCAGCCTC TACTGTTAGTACCTC TACTGTGCTAGCCTC TACTGTTACGTGCTC AGGTGTTACAGCCTC TACTTGAACAGCCTC GACTGTTACAGCCGA CGCTGTTACAGCCTG TACTGTGTTAGCCTC TATGCTTACAGCCTC TACTGTTGACGCCTC TACTGGGGCAGCCTC TACTGTTACAGTGGC TACTGTTACATTTTC TGTAGTTACAGCCTC TACATCTACAGCCTC TACTGTTACAGCACG TACTCCCACAGCCTC\n"
     ]
    }
   ],
   "source": [
    "text = parse_file('dataset_161_5.txt')\n",
    "dna = [x for x in text[1].split(' ')]\n",
    "k = 15\n",
    "t = 20\n",
    "best_motifs = randomized_motif_search(dna, k, t)\n",
    "for _ in range(1000):\n",
    "    last_motifs = randomized_motif_search(dna, k, t)\n",
    "    if score(last_motifs, k) < score(best_motifs, k):\n",
    "        best_motifs = last_motifs[:]  \n",
    "print(*best_motifs)"
   ]
  },
  {
   "cell_type": "code",
   "execution_count": null,
   "id": "c4e34fe3",
   "metadata": {},
   "outputs": [],
   "source": []
  },
  {
   "cell_type": "code",
   "execution_count": null,
   "id": "33758461",
   "metadata": {},
   "outputs": [],
   "source": []
  }
 ],
 "metadata": {
  "kernelspec": {
   "display_name": "Python 3 (ipykernel)",
   "language": "python",
   "name": "python3"
  },
  "language_info": {
   "codemirror_mode": {
    "name": "ipython",
    "version": 3
   },
   "file_extension": ".py",
   "mimetype": "text/x-python",
   "name": "python",
   "nbconvert_exporter": "python",
   "pygments_lexer": "ipython3",
   "version": "3.9.8"
  }
 },
 "nbformat": 4,
 "nbformat_minor": 5
}
